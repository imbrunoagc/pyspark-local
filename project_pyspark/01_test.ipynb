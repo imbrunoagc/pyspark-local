{
 "cells": [
  {
   "cell_type": "code",
   "execution_count": 1,
   "id": "200034b5",
   "metadata": {},
   "outputs": [],
   "source": [
    "from pyspark.sql.types import StructType, StructField, StringType, IntegerType\n",
    "from pyspark.sql import SparkSession, DataFrame"
   ]
  },
  {
   "cell_type": "code",
   "execution_count": 7,
   "id": "6f0b54ed-efd1-4b90-a30f-4a085380eb93",
   "metadata": {},
   "outputs": [],
   "source": [
    "import os\n",
    "import sys\n",
    "\n",
    "python_path = r'C:\\Users\\bruno\\AppData\\Local\\Programs\\Python\\Python310\\python.exe'\n",
    "\n",
    "os.environ['PYSPARK_PYTHON'] = python_path\n",
    "os.environ['PYSPARK_DRIVER_PYTHON'] = python_path"
   ]
  },
  {
   "cell_type": "code",
   "execution_count": 2,
   "id": "7f3baf2f-5743-4beb-8533-286e52e5ede3",
   "metadata": {},
   "outputs": [],
   "source": [
    "# Incialização da sessão do spark de nome 'test'\n",
    "spark = (\n",
    "    SparkSession\n",
    "    .builder\n",
    "    .master(\"local[*]\")\n",
    "    .appName('test')\n",
    "    .getOrCreate()\n",
    "    )"
   ]
  },
  {
   "cell_type": "code",
   "execution_count": 3,
   "id": "bddcc999-55eb-4282-a6fe-c476517ab0d7",
   "metadata": {},
   "outputs": [],
   "source": [
    "data = [ \n",
    " (\"James\",\"\",\"Smith\",\"36636\",\"M\",3000),\n",
    " (\"Michael\",\"Rose\",\"\",\"40288\",\"M\",4000),\n",
    " (\"Robert\",\"\",\"Williams\",\"42114\",\"M\",4000),\n",
    " (\"Maria\",\"Anne\",\"Jones\",\"39192\",\"F\",4000),\n",
    " (\"Jen\",\"Mary\",\"Brown\",\"\",\"F\",-1) \n",
    "]"
   ]
  },
  {
   "cell_type": "code",
   "execution_count": 4,
   "id": "233c7f1a-b02d-4d51-9fed-fdebd3239963",
   "metadata": {},
   "outputs": [],
   "source": [
    "schema = (\n",
    " StructType([\n",
    "  StructField(\"firstname\",StringType(),True),\n",
    "  StructField(\"middlename\",StringType(),True), \n",
    "  StructField(\"lastname\",StringType(),True),\n",
    "  StructField(\"id\", StringType(), True),\n",
    "  StructField(\"gender\", StringType(), True),\n",
    "  StructField(\"salary\", IntegerType(), True)\n",
    "   ])\n",
    ")"
   ]
  },
  {
   "cell_type": "code",
   "execution_count": 5,
   "id": "f341a766-c53c-48b0-991b-19145ecacfe0",
   "metadata": {},
   "outputs": [
    {
     "name": "stdout",
     "output_type": "stream",
     "text": [
      "root\n",
      " |-- firstname: string (nullable = true)\n",
      " |-- middlename: string (nullable = true)\n",
      " |-- lastname: string (nullable = true)\n",
      " |-- id: string (nullable = true)\n",
      " |-- gender: string (nullable = true)\n",
      " |-- salary: integer (nullable = true)\n",
      "\n"
     ]
    }
   ],
   "source": [
    "df = spark.createDataFrame(data=data,schema=schema)\n",
    "\n",
    "df.printSchema() "
   ]
  },
  {
   "cell_type": "code",
   "execution_count": 6,
   "id": "4df93c04-0b6f-4a5d-b823-ae3c7dd99ce0",
   "metadata": {},
   "outputs": [
    {
     "name": "stdout",
     "output_type": "stream",
     "text": [
      "+---------+----------+--------+-----+------+------+\n",
      "|firstname|middlename|lastname|   id|gender|salary|\n",
      "+---------+----------+--------+-----+------+------+\n",
      "|    James|          |   Smith|36636|     M|  3000|\n",
      "|  Michael|      Rose|        |40288|     M|  4000|\n",
      "|   Robert|          |Williams|42114|     M|  4000|\n",
      "|    Maria|      Anne|   Jones|39192|     F|  4000|\n",
      "|      Jen|      Mary|   Brown|     |     F|    -1|\n",
      "+---------+----------+--------+-----+------+------+\n",
      "\n"
     ]
    }
   ],
   "source": [
    "df.show()"
   ]
  },
  {
   "cell_type": "code",
   "execution_count": null,
   "id": "f8405df9-20a3-4299-b953-dde7fb644eb1",
   "metadata": {},
   "outputs": [],
   "source": []
  },
  {
   "cell_type": "code",
   "execution_count": null,
   "id": "e608fa4b-d8b7-4d87-a712-38fa42225f2a",
   "metadata": {},
   "outputs": [],
   "source": []
  }
 ],
 "metadata": {
  "kernelspec": {
   "display_name": "Python 3 (ipykernel)",
   "language": "python",
   "name": "python3"
  },
  "language_info": {
   "codemirror_mode": {
    "name": "ipython",
    "version": 3
   },
   "file_extension": ".py",
   "mimetype": "text/x-python",
   "name": "python",
   "nbconvert_exporter": "python",
   "pygments_lexer": "ipython3",
   "version": "3.10.8"
  }
 },
 "nbformat": 4,
 "nbformat_minor": 5
}
