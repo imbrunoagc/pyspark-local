{
 "cells": [
  {
   "cell_type": "code",
   "execution_count": 18,
   "id": "e8aaa890-cd32-4bf1-9594-8453a19d8669",
   "metadata": {},
   "outputs": [],
   "source": [
    "from pyspark.sql import SparkSession\n",
    "from pyspark.sql import functions as F\n",
    "\n",
    "spark = ( \n",
    " SparkSession\n",
    " .builder\n",
    "    .master(\"local[*]\")\n",
    " .appName('spark_dataframe_api')\n",
    " .getOrCreate()\n",
    ")"
   ]
  },
  {
   "cell_type": "code",
   "execution_count": 19,
   "id": "b49a3dfc-ab38-4de5-8a8c-9a7f4cbec68c",
   "metadata": {},
   "outputs": [
    {
     "name": "stdout",
     "output_type": "stream",
     "text": [
      "root\n",
      " |-- Regiao - Sigla: string (nullable = true)\n",
      " |-- Estado - Sigla: string (nullable = true)\n",
      " |-- Municipio: string (nullable = true)\n",
      " |-- Revenda: string (nullable = true)\n",
      " |-- CNPJ da Revenda: string (nullable = true)\n",
      " |-- Nome da Rua: string (nullable = true)\n",
      " |-- Numero Rua: string (nullable = true)\n",
      " |-- Complemento: string (nullable = true)\n",
      " |-- Bairro: string (nullable = true)\n",
      " |-- Cep: string (nullable = true)\n",
      " |-- Produto: string (nullable = true)\n",
      " |-- Data da Coleta: string (nullable = true)\n",
      " |-- Valor de Venda: string (nullable = true)\n",
      " |-- Valor de Compra: string (nullable = true)\n",
      " |-- Unidade de Medida: string (nullable = true)\n",
      " |-- Bandeira: string (nullable = true)\n",
      "\n"
     ]
    }
   ],
   "source": [
    "df = (\n",
    "    spark\n",
    "    .read\n",
    "    .option('delimiter', ';')\n",
    "    .option('header', 'true')\n",
    "    .option('inferSchema', 'true')\n",
    "    .option('enconding', 'ISO-8859-1')\n",
    "    .csv('./dados/precos-gasolina-etanol-08.csv')\n",
    ")\n",
    "\n",
    "df.printSchema()"
   ]
  },
  {
   "cell_type": "code",
   "execution_count": 20,
   "id": "63ba22bc-7a35-44cd-956c-b3d1a03eaf67",
   "metadata": {},
   "outputs": [
    {
     "name": "stdout",
     "output_type": "stream",
     "text": [
      "+--------------+--------------+---------+-------------------------------------------------------+-------------------+-----------------------------------------+----------+--------------+----------------+---------+------------------+--------------+--------------+---------------+-----------------+--------+\n",
      "|Regiao - Sigla|Estado - Sigla|Municipio|Revenda                                                |CNPJ da Revenda    |Nome da Rua                              |Numero Rua|Complemento   |Bairro          |Cep      |Produto           |Data da Coleta|Valor de Venda|Valor de Compra|Unidade de Medida|Bandeira|\n",
      "+--------------+--------------+---------+-------------------------------------------------------+-------------------+-----------------------------------------+----------+--------------+----------------+---------+------------------+--------------+--------------+---------------+-----------------+--------+\n",
      "|N             |AM            |PARINTINS|F.J. COMERCIO DE COMBUSTIVEIS LTDA                     | 09.368.602/0001-70|RUA PARAIBA                              |41        |CONJ  MACURANY|RAIMUNDO MUNIZ  |69151-456|GASOLINA          |01/08/2024    |7,68          |null           |R$ / litro       |BRANCA  |\n",
      "|N             |AM            |PARINTINS|F.J. COMERCIO DE COMBUSTIVEIS LTDA                     | 09.368.602/0001-70|RUA PARAIBA                              |41        |CONJ  MACURANY|RAIMUNDO MUNIZ  |69151-456|GASOLINA ADITIVADA|01/08/2024    |7,68          |null           |R$ / litro       |BRANCA  |\n",
      "|NE            |CE            |ITAPIPOCA|SAO PEDRO COM VAREJ COMBUSTIVEIS LTDA.                 | 01.632.155/0002-94|AVENIDA MONSENHOR TABOSA                 |2771      |null          |JULHO           |62505-650|GASOLINA          |01/08/2024    |6,77          |null           |R$ / litro       |ALE     |\n",
      "|NE            |CE            |ITAPIPOCA|SAO PEDRO COM VAREJ COMBUSTIVEIS LTDA.                 | 01.632.155/0002-94|AVENIDA MONSENHOR TABOSA                 |2771      |null          |JULHO           |62505-650|GASOLINA ADITIVADA|01/08/2024    |6,78          |null           |R$ / litro       |ALE     |\n",
      "|NE            |CE            |ITAPIPOCA|SAO PEDRO COM VAREJ COMBUSTIVEIS LTDA.                 | 01.632.155/0002-94|AVENIDA MONSENHOR TABOSA                 |2771      |null          |JULHO           |62505-650|ETANOL            |01/08/2024    |5,24          |null           |R$ / litro       |ALE     |\n",
      "|NE            |CE            |ITAPIPOCA|COMERCIAL ITAPIPOQUENSE DE COMBUSTIVEIS LTDA           | 23.463.268/0001-65|RUA JOSE DO PATROCINIO                   |1023      |null          |COQUEIRO        |62508-048|GASOLINA          |01/08/2024    |6,79          |null           |R$ / litro       |IPIRANGA|\n",
      "|NE            |CE            |ITAPIPOCA|COMERCIAL ITAPIPOQUENSE DE COMBUSTIVEIS LTDA           | 23.463.268/0001-65|RUA JOSE DO PATROCINIO                   |1023      |null          |COQUEIRO        |62508-048|GASOLINA ADITIVADA|01/08/2024    |6,79          |null           |R$ / litro       |IPIRANGA|\n",
      "|NE            |CE            |ITAPIPOCA|COMERCIAL ITAPIPOQUENSE DE COMBUSTIVEIS LTDA           | 23.463.268/0001-65|RUA JOSE DO PATROCINIO                   |1023      |null          |COQUEIRO        |62508-048|ETANOL            |01/08/2024    |5,24          |null           |R$ / litro       |IPIRANGA|\n",
      "|NE            |CE            |SOBRAL   |ECONOGÁS DO BRASIL DIST. DERIV. DE PET. BIOC. E GÁS NAT| 08.775.979/0002-62|RUA TABELIÃO IDELFONSO CAVALCANTI        |455       |null          |CENTRO          |62010-000|GASOLINA          |01/08/2024    |6,68          |null           |R$ / litro       |RAIZEN  |\n",
      "|NE            |CE            |SOBRAL   |ECONOGÁS DO BRASIL DIST. DERIV. DE PET. BIOC. E GÁS NAT| 08.775.979/0002-62|RUA TABELIÃO IDELFONSO CAVALCANTI        |455       |null          |CENTRO          |62010-000|GASOLINA ADITIVADA|01/08/2024    |6,88          |null           |R$ / litro       |RAIZEN  |\n",
      "|NE            |CE            |SOBRAL   |ECONOGÁS DO BRASIL DIST. DERIV. DE PET. BIOC. E GÁS NAT| 08.775.979/0002-62|RUA TABELIÃO IDELFONSO CAVALCANTI        |455       |null          |CENTRO          |62010-000|ETANOL            |01/08/2024    |4,99          |null           |R$ / litro       |RAIZEN  |\n",
      "|NE            |CE            |SOBRAL   |T. C. DE VASCONCELOS & CIA LTDA                        | 07.380.155/0002-20|AVENIDA CEL. JOSE EUCLIDES FERREIRA GOMES|970       |null          |EXPECTATIVA     |62040-254|GASOLINA          |01/08/2024    |6,69          |null           |R$ / litro       |VIBRA   |\n",
      "|NE            |CE            |SOBRAL   |T. C. DE VASCONCELOS & CIA LTDA                        | 07.380.155/0002-20|AVENIDA CEL. JOSE EUCLIDES FERREIRA GOMES|970       |null          |EXPECTATIVA     |62040-254|GASOLINA ADITIVADA|01/08/2024    |6,79          |null           |R$ / litro       |VIBRA   |\n",
      "|NE            |CE            |SOBRAL   |T. C. DE VASCONCELOS & CIA LTDA                        | 07.380.155/0002-20|AVENIDA CEL. JOSE EUCLIDES FERREIRA GOMES|970       |null          |EXPECTATIVA     |62040-254|ETANOL            |01/08/2024    |5,29          |null           |R$ / litro       |VIBRA   |\n",
      "|NE            |CE            |SOBRAL   |AUTO POSTO PIONEIRO LTDA                               | 07.428.286/0001-50|AVENIDA JOHN SANFORD                     |704       |null          |JUNCO           |62030-000|GASOLINA          |01/08/2024    |6,69          |null           |R$ / litro       |VIBRA   |\n",
      "|NE            |CE            |SOBRAL   |AUTO POSTO PIONEIRO LTDA                               | 07.428.286/0001-50|AVENIDA JOHN SANFORD                     |704       |null          |JUNCO           |62030-000|GASOLINA ADITIVADA|01/08/2024    |6,79          |null           |R$ / litro       |VIBRA   |\n",
      "|NE            |CE            |SOBRAL   |AUTO POSTO PIONEIRO LTDA                               | 07.428.286/0001-50|AVENIDA JOHN SANFORD                     |704       |null          |JUNCO           |62030-000|ETANOL            |01/08/2024    |5,29          |null           |R$ / litro       |VIBRA   |\n",
      "|NE            |CE            |SOBRAL   |V.C.EMPREENDIMENTOS LTDA                               | 03.551.935/0002-35|AVENIDA JOSE EUCLIDES FERREIRA GOMES     |30        |POSTO FLASH   |CORACAO DE JESUS|62043-070|GASOLINA          |01/08/2024    |6,68          |null           |R$ / litro       |RAIZEN  |\n",
      "|NE            |CE            |SOBRAL   |V.C.EMPREENDIMENTOS LTDA                               | 03.551.935/0002-35|AVENIDA JOSE EUCLIDES FERREIRA GOMES     |30        |POSTO FLASH   |CORACAO DE JESUS|62043-070|GASOLINA ADITIVADA|01/08/2024    |6,98          |null           |R$ / litro       |RAIZEN  |\n",
      "|NE            |CE            |SOBRAL   |V.C.EMPREENDIMENTOS LTDA                               | 03.551.935/0002-35|AVENIDA JOSE EUCLIDES FERREIRA GOMES     |30        |POSTO FLASH   |CORACAO DE JESUS|62043-070|ETANOL            |01/08/2024    |5,29          |null           |R$ / litro       |RAIZEN  |\n",
      "+--------------+--------------+---------+-------------------------------------------------------+-------------------+-----------------------------------------+----------+--------------+----------------+---------+------------------+--------------+--------------+---------------+-----------------+--------+\n",
      "only showing top 20 rows\n",
      "\n"
     ]
    }
   ],
   "source": [
    "df.show(truncate=False)"
   ]
  },
  {
   "cell_type": "code",
   "execution_count": 21,
   "id": "60bf8a97-10b6-45d4-97c9-d7e1ffc31abb",
   "metadata": {},
   "outputs": [],
   "source": [
    "df_precos = (\n",
    "    df\n",
    "    .select('Estado - Sigla', 'Produto', 'Valor de Compra', 'Valor de Venda', 'Unidade de Medida')\n",
    ")"
   ]
  },
  {
   "cell_type": "code",
   "execution_count": 22,
   "id": "38193336-c8fc-47ec-8f54-e6e1e40a9ef0",
   "metadata": {},
   "outputs": [
    {
     "name": "stdout",
     "output_type": "stream",
     "text": [
      "+--------------+------------------+---------------+--------------+-----------------+\n",
      "|Estado - Sigla|           Produto|Valor de Compra|Valor de Venda|Unidade de Medida|\n",
      "+--------------+------------------+---------------+--------------+-----------------+\n",
      "|            AM|          GASOLINA|           null|          7,68|       R$ / litro|\n",
      "|            AM|GASOLINA ADITIVADA|           null|          7,68|       R$ / litro|\n",
      "|            CE|          GASOLINA|           null|          6,77|       R$ / litro|\n",
      "|            CE|GASOLINA ADITIVADA|           null|          6,78|       R$ / litro|\n",
      "|            CE|            ETANOL|           null|          5,24|       R$ / litro|\n",
      "+--------------+------------------+---------------+--------------+-----------------+\n",
      "only showing top 5 rows\n",
      "\n"
     ]
    }
   ],
   "source": [
    "df_precos.show(5)"
   ]
  },
  {
   "cell_type": "code",
   "execution_count": 23,
   "id": "6048dad0-ff03-49c7-ae91-a0918dbf5105",
   "metadata": {},
   "outputs": [
    {
     "name": "stdout",
     "output_type": "stream",
     "text": [
      "+--------------+-------+---------------+--------------+-----------------+\n",
      "|Estado - Sigla|Produto|Valor de Compra|Valor de Venda|Unidade de Medida|\n",
      "+--------------+-------+---------------+--------------+-----------------+\n",
      "+--------------+-------+---------------+--------------+-----------------+\n",
      "\n"
     ]
    }
   ],
   "source": [
    "# verificar se no dataframe a coluna \"Valor de Compra' tem valor nulos\n",
    "(\n",
    "    df_precos\n",
    "    .where(\n",
    "        F.col('Valor de Compra').isNotNull()\n",
    "    )\n",
    "    .show()\n",
    ")"
   ]
  },
  {
   "cell_type": "code",
   "execution_count": 24,
   "id": "5de94318-3244-4223-aebd-79fa1626ff94",
   "metadata": {},
   "outputs": [],
   "source": [
    "# Formatar Valor de Venda para FLOAT\n",
    "df_precos = (\n",
    "    df\n",
    "    .select('Estado - Sigla', 'Produto', 'Valor de Venda', 'Unidade de Medida')\n",
    "    .withColumn(\n",
    "        \"Valor de Venda\",\n",
    "        F.regexp_replace(F.col(\"Valor de Venda\"), \",\", \".\")\n",
    "        .cast(\"Float\")    \n",
    "    )\n",
    ")\n"
   ]
  },
  {
   "cell_type": "code",
   "execution_count": 25,
   "id": "8cf16f6a-eb9d-4438-bda9-f81af3c74a1f",
   "metadata": {},
   "outputs": [],
   "source": [
    "## Calcular o Valor de MIN e MAX e verificar a DIFERENCA\n",
    "# Realizar agregação para obter as medidas\n",
    "df_precos_analise = (\n",
    "    df_precos\n",
    "    .groupBy(\n",
    "        F.col('Estado - Sigla'),\n",
    "        F.col('Produto'),\n",
    "        F.col('Unidade de Medida')\n",
    "    )\n",
    "    .agg(\n",
    "        F.min(F.col(\"Valor de Venda\")).alias('menor_valor'),\n",
    "        F.max(F.col(\"Valor de Venda\")).alias('maior_valor')\n",
    "    )\n",
    "    .withColumn(\n",
    "        \"diferenca\",\n",
    "       F.col('maior_valor') - F.col('menor_valor') \n",
    "    )\n",
    "    .orderBy('diferenca', ascending=False)\n",
    ")"
   ]
  },
  {
   "cell_type": "code",
   "execution_count": 26,
   "id": "08a95451-c0a8-49a3-a384-5fbf948a00d6",
   "metadata": {},
   "outputs": [
    {
     "name": "stdout",
     "output_type": "stream",
     "text": [
      "+--------------+------------------+-----------------+-----------+-----------+---------+\n",
      "|Estado - Sigla|           Produto|Unidade de Medida|menor_valor|maior_valor|diferenca|\n",
      "+--------------+------------------+-----------------+-----------+-----------+---------+\n",
      "|            SP|GASOLINA ADITIVADA|       R$ / litro|       5.09|       8.89|3.8000002|\n",
      "|            SP|          GASOLINA|       R$ / litro|       4.99|       7.99|      3.0|\n",
      "|            SP|            ETANOL|       R$ / litro|       3.29|       5.99|2.6999998|\n",
      "|            RJ|GASOLINA ADITIVADA|       R$ / litro|       5.49|       7.99|      2.5|\n",
      "|            GO|            ETANOL|       R$ / litro|       3.39|       5.89|2.4999998|\n",
      "|            RJ|          GASOLINA|       R$ / litro|       5.39|       7.79|      2.4|\n",
      "|            PE|            ETANOL|       R$ / litro|       3.99|       5.99|1.9999998|\n",
      "|            RS|            ETANOL|       R$ / litro|       4.15|       6.14|1.9899998|\n",
      "|            SC|            ETANOL|       R$ / litro|       4.09|       6.06|1.9699998|\n",
      "|            TO|            ETANOL|       R$ / litro|       3.98|       5.89|1.9099998|\n",
      "+--------------+------------------+-----------------+-----------+-----------+---------+\n",
      "only showing top 10 rows\n",
      "\n"
     ]
    }
   ],
   "source": [
    "df_precos_analise.show(10)"
   ]
  }
 ],
 "metadata": {
  "kernelspec": {
   "display_name": "Python 3 (ipykernel)",
   "language": "python",
   "name": "python3"
  },
  "language_info": {
   "codemirror_mode": {
    "name": "ipython",
    "version": 3
   },
   "file_extension": ".py",
   "mimetype": "text/x-python",
   "name": "python",
   "nbconvert_exporter": "python",
   "pygments_lexer": "ipython3",
   "version": "3.10.8"
  }
 },
 "nbformat": 4,
 "nbformat_minor": 5
}
