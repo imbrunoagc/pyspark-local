{
 "cells": [
  {
   "cell_type": "code",
   "execution_count": null,
   "id": "659925c6-09d8-4ccc-b4e3-ac6da2a8a40c",
   "metadata": {},
   "outputs": [],
   "source": [
    "from pyspark.sql import SparkSession"
   ]
  },
  {
   "cell_type": "code",
   "execution_count": null,
   "id": "3ef764fc-836d-4223-9dc3-574d7d757279",
   "metadata": {},
   "outputs": [],
   "source": [
    "spark = ( \n",
    " SparkSession\n",
    " .builder\n",
    "    .master(\"local[*]\")\n",
    " .appName('spark_sql')\n",
    " .getOrCreate()\n",
    ")\n",
    "\n",
    "df = (\n",
    "    spark\n",
    "    .read\n",
    "    .option('delimiter', ';')\n",
    "    .option('header', 'true')\n",
    "    .option('inferSchema', 'true')\n",
    "    .option('enconding', 'ISO-8859-1')\n",
    "    .csv('./dados/precos-gasolina-etanol-08.csv')\n",
    ")"
   ]
  },
  {
   "cell_type": "code",
   "execution_count": null,
   "id": "fa90be0d-7200-4d99-85c0-15aca0714aea",
   "metadata": {},
   "outputs": [],
   "source": [
    "df.printSchema()"
   ]
  },
  {
   "cell_type": "code",
   "execution_count": null,
   "id": "f73e0e46-6973-4926-b46f-c3fa128a65eb",
   "metadata": {},
   "outputs": [],
   "source": [
    "df.createOrReplaceTempView('combustiveis')"
   ]
  },
  {
   "cell_type": "code",
   "execution_count": null,
   "id": "549a0097-a8f1-4dea-98a4-cd116d20b6fb",
   "metadata": {},
   "outputs": [],
   "source": [
    "spark.sql(\"\"\"\n",
    "    select * from combustiveis where `Valor de Compra` IS NOT NULL\n",
    "\"\"\").show()"
   ]
  },
  {
   "cell_type": "code",
   "execution_count": null,
   "id": "aee50453-004d-4aa8-990f-2890d9a2df9d",
   "metadata": {},
   "outputs": [],
   "source": [
    "view_precos = spark.sql(\"\"\"\n",
    "    select \n",
    "        `Estado - Sigla`, \n",
    "        `Produto`, \n",
    "        regexp_replace(`Valor de Venda`, \",\", \".\") as `Valor de Venda`,\n",
    "        `Unidade de Medida`\n",
    "    from combustiveis\n",
    "\"\"\")"
   ]
  },
  {
   "cell_type": "code",
   "execution_count": null,
   "id": "e1e26ef4-bb73-4fb4-8a25-23c0433dac83",
   "metadata": {},
   "outputs": [],
   "source": [
    "view_precos.createOrReplaceTempView('view_precos')\n",
    "view_precos.show(5)"
   ]
  },
  {
   "cell_type": "code",
   "execution_count": null,
   "id": "0bf42574-e77f-4bad-a03f-f7fd6fd520b1",
   "metadata": {},
   "outputs": [],
   "source": [
    "df_diferenca_precos = spark.sql(\"\"\"\n",
    "    select \n",
    "        `Estado - Sigla`,\n",
    "        `Produto`,\n",
    "        `Unidade de Medida`,\n",
    "        MIN(`Valor de Venda`) as menor_valor,\n",
    "        MAX(`Valor de Venda`) as maior_valor,\n",
    "        MAX(`Valor de Venda`) - MIN(`Valor de Venda`) as diferenca\n",
    "   from view_precos\n",
    "   group by all\n",
    "   order by diferenca DESC\n",
    "\"\"\")\n",
    "df_diferenca_precos.show(5)"
   ]
  }
 ],
 "metadata": {
  "kernelspec": {
   "display_name": "Python 3 (ipykernel)",
   "language": "python",
   "name": "python3"
  },
  "language_info": {
   "codemirror_mode": {
    "name": "ipython",
    "version": 3
   },
   "file_extension": ".py",
   "mimetype": "text/x-python",
   "name": "python",
   "nbconvert_exporter": "python",
   "pygments_lexer": "ipython3",
   "version": "3.10.8"
  }
 },
 "nbformat": 4,
 "nbformat_minor": 5
}
